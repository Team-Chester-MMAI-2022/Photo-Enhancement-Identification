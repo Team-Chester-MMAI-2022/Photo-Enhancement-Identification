{
  "cells": [
    {
      "cell_type": "code",
      "execution_count": null,
      "metadata": {
        "colab": {
          "base_uri": "https://localhost:8080/"
        },
        "id": "nTYnSl6TUMxE",
        "outputId": "5adff90f-b220-4e25-9e7a-10055875f1fa"
      },
      "outputs": [
        {
          "output_type": "stream",
          "name": "stdout",
          "text": [
            "Thu Mar 10 18:55:29 2022       \n",
            "+-----------------------------------------------------------------------------+\n",
            "| NVIDIA-SMI 460.32.03    Driver Version: 460.32.03    CUDA Version: 11.2     |\n",
            "|-------------------------------+----------------------+----------------------+\n",
            "| GPU  Name        Persistence-M| Bus-Id        Disp.A | Volatile Uncorr. ECC |\n",
            "| Fan  Temp  Perf  Pwr:Usage/Cap|         Memory-Usage | GPU-Util  Compute M. |\n",
            "|                               |                      |               MIG M. |\n",
            "|===============================+======================+======================|\n",
            "|   0  Tesla P100-PCIE...  Off  | 00000000:00:04.0 Off |                    0 |\n",
            "| N/A   33C    P0    26W / 250W |      0MiB / 16280MiB |      0%      Default |\n",
            "|                               |                      |                  N/A |\n",
            "+-------------------------------+----------------------+----------------------+\n",
            "                                                                               \n",
            "+-----------------------------------------------------------------------------+\n",
            "| Processes:                                                                  |\n",
            "|  GPU   GI   CI        PID   Type   Process name                  GPU Memory |\n",
            "|        ID   ID                                                   Usage      |\n",
            "|=============================================================================|\n",
            "|  No running processes found                                                 |\n",
            "+-----------------------------------------------------------------------------+\n"
          ]
        }
      ],
      "source": [
        "gpu_info = !nvidia-smi\n",
        "gpu_info = '\\n'.join(gpu_info)\n",
        "if gpu_info.find('failed') >= 0:\n",
        "  print('Not connected to a GPU')\n",
        "else:\n",
        "  print(gpu_info)"
      ],
      "id": "nTYnSl6TUMxE"
    },
    {
      "cell_type": "code",
      "execution_count": null,
      "metadata": {
        "id": "whvcWqRrMTo0"
      },
      "outputs": [],
      "source": [
        "#Import Stuff here\n",
        "\n",
        "from sklearn.model_selection import train_test_split\n",
        "\n",
        "import matplotlib.pyplot as plt\n",
        "\n",
        "import tensorflow.keras as keras\n",
        "from tensorflow.keras import layers, Model, optimizers\n",
        "from tensorflow.keras.models import Sequential\n",
        "from tensorflow.keras.layers import Dense, Dropout, Conv2D, MaxPooling2D, Flatten, GlobalAveragePooling2D, DepthwiseConv2D, BatchNormalization\n",
        "from tensorflow.keras.preprocessing.image import ImageDataGenerator\n",
        "from sklearn.metrics import classification_report, confusion_matrix\n",
        "import pandas as pd\n",
        "import numpy as np\n",
        "import time\n",
        "from datetime import datetime\n",
        "from tensorflow.keras.utils import plot_model\n",
        "from tensorflow.keras.optimizers import RMSprop\n",
        "from tensorflow.keras.applications.inception_v3 import InceptionV3\n"
      ],
      "id": "whvcWqRrMTo0"
    },
    {
      "cell_type": "code",
      "execution_count": null,
      "metadata": {
        "colab": {
          "base_uri": "https://localhost:8080/"
        },
        "id": "M9l9_5mrcqmV",
        "outputId": "4d590e28-7538-4994-e1ff-3e5a0921c9b2"
      },
      "outputs": [
        {
          "output_type": "stream",
          "name": "stdout",
          "text": [
            "Mounted at /content/drive\n"
          ]
        }
      ],
      "source": [
        "from google.colab import drive, files\n",
        "\n",
        "drive.mount('/content/drive')"
      ],
      "id": "M9l9_5mrcqmV"
    },
    {
      "cell_type": "code",
      "execution_count": null,
      "metadata": {
        "colab": {
          "base_uri": "https://localhost:8080/"
        },
        "id": "TznxUDLhMTo4",
        "outputId": "f06cbc60-7b82-4937-8a62-3d383ce813ff"
      },
      "outputs": [
        {
          "output_type": "stream",
          "name": "stdout",
          "text": [
            "Found 6800 images belonging to 17 classes.\n",
            "Found 1700 images belonging to 17 classes.\n",
            "Found 1700 images belonging to 17 classes.\n"
          ]
        }
      ],
      "source": [
        "#creates a Image Generator from the directories and scales the images by dividing by 255. Also changes the images sizes to 256x256\n",
        "\n",
        "def load_data():\n",
        "\n",
        "    datagen = ImageDataGenerator(rescale = 1/255)\n",
        "    \n",
        "    train_it = datagen.flow_from_directory ('/content/drive/My Drive/Colab Notebooks/IFFI-dataset-raw/train/', target_size = (256, 256), \n",
        "                                            class_mode = 'categorical', color_mode=\"rgb\", batch_size=64, seed = 1)\n",
        "    \n",
        "    val_it = datagen.flow_from_directory ('/content/drive/My Drive/Colab Notebooks/IFFI-dataset-raw/validation/', target_size = (256, 256), \n",
        "                                            class_mode = 'categorical', color_mode=\"rgb\", batch_size=64, seed = 1)\n",
        "    \n",
        "    test_it = datagen.flow_from_directory ('/content/drive/My Drive/Colab Notebooks/IFFI-dataset-raw/test/', target_size = (256, 256), \n",
        "                                            class_mode = 'categorical', color_mode=\"rgb\", batch_size=64, seed = 1,  shuffle=False)\n",
        "    \n",
        "    return train_it, val_it, test_it\n",
        "\n",
        "train_it, val_it, test_it = load_data()"
      ],
      "id": "TznxUDLhMTo4"
    },
    {
      "cell_type": "code",
      "execution_count": null,
      "metadata": {
        "colab": {
          "base_uri": "https://localhost:8080/"
        },
        "id": "AG5LosIcMTo5",
        "outputId": "0abad3de-ecc6-4a74-bf5b-5ceec09afa62"
      },
      "outputs": [
        {
          "output_type": "stream",
          "name": "stdout",
          "text": [
            "Batch shape=(64, 256, 256, 3), min=0.000, max=1.000\n"
          ]
        }
      ],
      "source": [
        "batchX, batchy = train_it.next()\n",
        "print('Batch shape=%s, min=%.3f, max=%.3f' % (batchX.shape, batchX.min(), batchX.max()))"
      ],
      "id": "AG5LosIcMTo5"
    },
    {
      "cell_type": "code",
      "source": [
        "train_it.class_indices"
      ],
      "metadata": {
        "colab": {
          "base_uri": "https://localhost:8080/"
        },
        "id": "pvNMi6bDJ9z6",
        "outputId": "0b4b147e-5f77-4f91-d122-9245a54fac28"
      },
      "id": "pvNMi6bDJ9z6",
      "execution_count": null,
      "outputs": [
        {
          "output_type": "execute_result",
          "data": {
            "text/plain": [
              "{'1977': 0,\n",
              " 'Amaro': 1,\n",
              " 'Brannan': 2,\n",
              " 'Clarendon': 3,\n",
              " 'Gingham': 4,\n",
              " 'He-Fe': 5,\n",
              " 'Hudson': 6,\n",
              " 'Lo-Fi': 7,\n",
              " 'Mayfair': 8,\n",
              " 'Nashville': 9,\n",
              " 'Original': 10,\n",
              " 'Perpetua': 11,\n",
              " 'Sutro': 12,\n",
              " 'Toaster': 13,\n",
              " 'Valencia': 14,\n",
              " 'Willow': 15,\n",
              " 'X-ProII': 16}"
            ]
          },
          "metadata": {},
          "execution_count": 6
        }
      ]
    },
    {
      "cell_type": "code",
      "source": [
        "nclass = len(train_it.class_indices)\n",
        "\n",
        "base_model = InceptionV3(input_shape = (299, 299, 3), # Shape of our images\n",
        "                          include_top = False, # Leave out the last fully connected Layer\n",
        "                          weights = 'imagenet',\n",
        "                          classes = nclass)\n",
        "base_model.trainable = False\n",
        "\n",
        "add_model = Sequential()\n",
        "add_model.add(base_model)\n",
        "add_model.add(GlobalAveragePooling2D())\n",
        "add_model.add(Dropout(0.5))\n",
        "add_model.add(Dense(nclass, \n",
        "                    activation='softmax'))\n",
        "\n",
        "model = add_model\n",
        "model.compile(loss='categorical_crossentropy', \n",
        "              optimizer=optimizers.SGD(lr=1e-4, \n",
        "                                       momentum=0.9),\n",
        "              metrics=['accuracy'])\n",
        "model.summary()\n",
        "\n"
      ],
      "metadata": {
        "id": "hxVXvnsSMzPZ",
        "colab": {
          "base_uri": "https://localhost:8080/"
        },
        "outputId": "d9566792-e91f-42db-bd1c-240240e356d1"
      },
      "id": "hxVXvnsSMzPZ",
      "execution_count": null,
      "outputs": [
        {
          "output_type": "stream",
          "name": "stdout",
          "text": [
            "Model: \"sequential_1\"\n",
            "_________________________________________________________________\n",
            " Layer (type)                Output Shape              Param #   \n",
            "=================================================================\n",
            " inception_v3 (Functional)   (None, 8, 8, 2048)        21802784  \n",
            "                                                                 \n",
            " global_average_pooling2d_1   (None, 2048)             0         \n",
            " (GlobalAveragePooling2D)                                        \n",
            "                                                                 \n",
            " dropout_1 (Dropout)         (None, 2048)              0         \n",
            "                                                                 \n",
            " dense_1 (Dense)             (None, 17)                34833     \n",
            "                                                                 \n",
            "=================================================================\n",
            "Total params: 21,837,617\n",
            "Trainable params: 34,833\n",
            "Non-trainable params: 21,802,784\n",
            "_________________________________________________________________\n"
          ]
        },
        {
          "output_type": "stream",
          "name": "stderr",
          "text": [
            "/usr/local/lib/python3.7/dist-packages/keras/optimizer_v2/gradient_descent.py:102: UserWarning: The `lr` argument is deprecated, use `learning_rate` instead.\n",
            "  super(SGD, self).__init__(name, **kwargs)\n"
          ]
        }
      ]
    },
    {
      "cell_type": "code",
      "source": [
        "def compile_model(model):\n",
        "  \n",
        "  model.compile(optimizer = 'Adam',\n",
        "                loss=keras.losses.CategoricalCrossentropy(),\n",
        "                metrics=['AUC', 'accuracy'])\n",
        "  \n",
        "  return model\n",
        "\n",
        "def train_model(model, train_it, val_it):\n",
        "    history = model.fit(train_it, epochs = 24, steps_per_epoch = 107, verbose = 2, validation_data= val_it, validation_steps = 27)\n",
        "    return model, history\n",
        " \n",
        "model = compile_model(model)\n",
        "\n",
        "model, history = train_model(model, train_it, val_it)\n",
        "print (model.summary())"
      ],
      "metadata": {
        "colab": {
          "base_uri": "https://localhost:8080/"
        },
        "id": "kWrvoj4TflvB",
        "outputId": "c7bc5fd2-95c7-4801-fbf5-6ae5128a3309"
      },
      "id": "kWrvoj4TflvB",
      "execution_count": null,
      "outputs": [
        {
          "output_type": "stream",
          "name": "stdout",
          "text": [
            "Epoch 1/24\n",
            "107/107 - 2486s - loss: 3.2960 - auc: 0.5471 - accuracy: 0.0938 - val_loss: 2.6514 - val_auc: 0.6572 - val_accuracy: 0.1765 - 2486s/epoch - 23s/step\n",
            "Epoch 2/24\n",
            "107/107 - 213s - loss: 2.8953 - auc: 0.6372 - accuracy: 0.1532 - val_loss: 2.4886 - val_auc: 0.7226 - val_accuracy: 0.2071 - 213s/epoch - 2s/step\n",
            "Epoch 3/24\n",
            "107/107 - 213s - loss: 2.7459 - auc: 0.6774 - accuracy: 0.1791 - val_loss: 2.3975 - val_auc: 0.7507 - val_accuracy: 0.2418 - 213s/epoch - 2s/step\n",
            "Epoch 4/24\n",
            "107/107 - 215s - loss: 2.6296 - auc: 0.7047 - accuracy: 0.1990 - val_loss: 2.4265 - val_auc: 0.7439 - val_accuracy: 0.2329 - 215s/epoch - 2s/step\n",
            "Epoch 5/24\n",
            "107/107 - 213s - loss: 2.5462 - auc: 0.7254 - accuracy: 0.2209 - val_loss: 2.3827 - val_auc: 0.7592 - val_accuracy: 0.2365 - 213s/epoch - 2s/step\n",
            "Epoch 6/24\n",
            "107/107 - 213s - loss: 2.4944 - auc: 0.7403 - accuracy: 0.2309 - val_loss: 2.3292 - val_auc: 0.7734 - val_accuracy: 0.2388 - 213s/epoch - 2s/step\n",
            "Epoch 7/24\n",
            "107/107 - 214s - loss: 2.4584 - auc: 0.7475 - accuracy: 0.2391 - val_loss: 2.3138 - val_auc: 0.7785 - val_accuracy: 0.2594 - 214s/epoch - 2s/step\n",
            "Epoch 8/24\n",
            "107/107 - 215s - loss: 2.4099 - auc: 0.7598 - accuracy: 0.2440 - val_loss: 2.3021 - val_auc: 0.7798 - val_accuracy: 0.2471 - 215s/epoch - 2s/step\n",
            "Epoch 9/24\n",
            "107/107 - 220s - loss: 2.3720 - auc: 0.7687 - accuracy: 0.2597 - val_loss: 2.3623 - val_auc: 0.7708 - val_accuracy: 0.2529 - 220s/epoch - 2s/step\n",
            "Epoch 10/24\n",
            "107/107 - 225s - loss: 2.3365 - auc: 0.7779 - accuracy: 0.2634 - val_loss: 2.3178 - val_auc: 0.7767 - val_accuracy: 0.2647 - 225s/epoch - 2s/step\n",
            "Epoch 11/24\n",
            "107/107 - 224s - loss: 2.3448 - auc: 0.7773 - accuracy: 0.2554 - val_loss: 2.2789 - val_auc: 0.7891 - val_accuracy: 0.2735 - 224s/epoch - 2s/step\n",
            "Epoch 12/24\n",
            "107/107 - 224s - loss: 2.3328 - auc: 0.7801 - accuracy: 0.2660 - val_loss: 2.2948 - val_auc: 0.7876 - val_accuracy: 0.2829 - 224s/epoch - 2s/step\n",
            "Epoch 13/24\n",
            "107/107 - 223s - loss: 2.3111 - auc: 0.7860 - accuracy: 0.2696 - val_loss: 2.2622 - val_auc: 0.7930 - val_accuracy: 0.2718 - 223s/epoch - 2s/step\n",
            "Epoch 14/24\n",
            "107/107 - 223s - loss: 2.2943 - auc: 0.7901 - accuracy: 0.2729 - val_loss: 2.2910 - val_auc: 0.7889 - val_accuracy: 0.2882 - 223s/epoch - 2s/step\n",
            "Epoch 15/24\n",
            "107/107 - 223s - loss: 2.2862 - auc: 0.7914 - accuracy: 0.2778 - val_loss: 2.3000 - val_auc: 0.7874 - val_accuracy: 0.2629 - 223s/epoch - 2s/step\n",
            "Epoch 16/24\n",
            "107/107 - 222s - loss: 2.2674 - auc: 0.7967 - accuracy: 0.2779 - val_loss: 2.3169 - val_auc: 0.7841 - val_accuracy: 0.2765 - 222s/epoch - 2s/step\n",
            "Epoch 17/24\n",
            "107/107 - 225s - loss: 2.2880 - auc: 0.7920 - accuracy: 0.2788 - val_loss: 2.3184 - val_auc: 0.7870 - val_accuracy: 0.2747 - 225s/epoch - 2s/step\n",
            "Epoch 18/24\n",
            "107/107 - 223s - loss: 2.2931 - auc: 0.7924 - accuracy: 0.2724 - val_loss: 2.2660 - val_auc: 0.7957 - val_accuracy: 0.2800 - 223s/epoch - 2s/step\n",
            "Epoch 19/24\n",
            "107/107 - 224s - loss: 2.2590 - auc: 0.7983 - accuracy: 0.2879 - val_loss: 2.2890 - val_auc: 0.7913 - val_accuracy: 0.2788 - 224s/epoch - 2s/step\n",
            "Epoch 20/24\n",
            "107/107 - 221s - loss: 2.2559 - auc: 0.7994 - accuracy: 0.2821 - val_loss: 2.3201 - val_auc: 0.7849 - val_accuracy: 0.2676 - 221s/epoch - 2s/step\n",
            "Epoch 21/24\n",
            "107/107 - 224s - loss: 2.2436 - auc: 0.8019 - accuracy: 0.2854 - val_loss: 2.2676 - val_auc: 0.7955 - val_accuracy: 0.2841 - 224s/epoch - 2s/step\n",
            "Epoch 22/24\n",
            "107/107 - 224s - loss: 2.2698 - auc: 0.7974 - accuracy: 0.2835 - val_loss: 2.3157 - val_auc: 0.7882 - val_accuracy: 0.2647 - 224s/epoch - 2s/step\n",
            "Epoch 23/24\n",
            "107/107 - 224s - loss: 2.2926 - auc: 0.7935 - accuracy: 0.2774 - val_loss: 2.2633 - val_auc: 0.7946 - val_accuracy: 0.2771 - 224s/epoch - 2s/step\n",
            "Epoch 24/24\n",
            "107/107 - 223s - loss: 2.2575 - auc: 0.8006 - accuracy: 0.2885 - val_loss: 2.3153 - val_auc: 0.7869 - val_accuracy: 0.2788 - 223s/epoch - 2s/step\n",
            "Model: \"sequential_1\"\n",
            "_________________________________________________________________\n",
            " Layer (type)                Output Shape              Param #   \n",
            "=================================================================\n",
            " inception_v3 (Functional)   (None, 8, 8, 2048)        21802784  \n",
            "                                                                 \n",
            " global_average_pooling2d_1   (None, 2048)             0         \n",
            " (GlobalAveragePooling2D)                                        \n",
            "                                                                 \n",
            " dropout_1 (Dropout)         (None, 2048)              0         \n",
            "                                                                 \n",
            " dense_1 (Dense)             (None, 17)                34833     \n",
            "                                                                 \n",
            "=================================================================\n",
            "Total params: 21,837,617\n",
            "Trainable params: 34,833\n",
            "Non-trainable params: 21,802,784\n",
            "_________________________________________________________________\n",
            "None\n"
          ]
        }
      ]
    },
    {
      "cell_type": "code",
      "source": [
        "plot_model (model, 'model.png', show_shapes=True)\n"
      ],
      "metadata": {
        "colab": {
          "base_uri": "https://localhost:8080/",
          "height": 533
        },
        "id": "Gv0wnB90f0qn",
        "outputId": "6a089e20-1fd5-492d-e92c-254595531115"
      },
      "id": "Gv0wnB90f0qn",
      "execution_count": null,
      "outputs": [
        {
          "output_type": "execute_result",
          "data": {
            "text/plain": [
              "<IPython.core.display.Image object>"
            ],
            "image/png": "[encoded data removed]"
          },
          "metadata": {},
          "execution_count": 18
        }
      ]
    },
    {
      "cell_type": "code",
      "execution_count": null,
      "metadata": {
        "id": "Q9J0I9XRMTo8",
        "outputId": "98824c68-fb7f-4328-dd2a-78c43a1fddfc",
        "colab": {
          "base_uri": "https://localhost:8080/"
        }
      },
      "outputs": [
        {
          "output_type": "stream",
          "name": "stdout",
          "text": [
            "27/27 [==============================] - 495s 19s/step - loss: 2.2614 - auc: 0.7969 - accuracy: 0.2753\n"
          ]
        }
      ],
      "source": [
        "def eval_model(model, test_it):\n",
        "    # TODO: evaluate the model\n",
        "\n",
        "    test_loss, test_auc, test_accuracy = model.evaluate (test_it, steps = 27)\n",
        "\n",
        "    return test_loss, test_auc, test_accuracy\n",
        "\n",
        "test_loss, test_auc, test_accuracy = eval_model(model, test_it)"
      ],
      "id": "Q9J0I9XRMTo8"
    },
    {
      "cell_type": "code",
      "execution_count": null,
      "metadata": {
        "id": "bM7ubAgGMTo9"
      },
      "outputs": [],
      "source": [
        "test_it.reset()\n",
        "preds = model.predict(test_it, steps = 27)"
      ],
      "id": "bM7ubAgGMTo9"
    },
    {
      "cell_type": "code",
      "execution_count": null,
      "metadata": {
        "id": "WnjppZFcMTo-"
      },
      "outputs": [],
      "source": [
        "y_predict = np.argmax(preds,axis=1)"
      ],
      "id": "WnjppZFcMTo-"
    },
    {
      "cell_type": "code",
      "execution_count": null,
      "metadata": {
        "id": "Jyh9B3eZMTo-",
        "colab": {
          "base_uri": "https://localhost:8080/"
        },
        "outputId": "76169bb6-a85b-4190-a6d7-cccbd2de7853"
      },
      "outputs": [
        {
          "output_type": "stream",
          "name": "stdout",
          "text": [
            "              precision    recall  f1-score   support\n",
            "\n",
            "        1977       0.21      0.22      0.22       100\n",
            "       Amaro       0.19      0.07      0.10       100\n",
            "     Brannan       0.29      0.12      0.17       100\n",
            "   Clarendon       0.15      0.04      0.06       100\n",
            "     Gingham       0.16      0.40      0.22       100\n",
            "       He-Fe       0.23      0.14      0.17       100\n",
            "      Hudson       0.39      0.21      0.27       100\n",
            "       Lo-Fi       0.14      0.30      0.19       100\n",
            "     Mayfair       0.12      0.08      0.10       100\n",
            "   Nashville       0.37      0.44      0.40       100\n",
            "    Original       0.31      0.11      0.16       100\n",
            "    Perpetua       0.16      0.28      0.20       100\n",
            "       Sutro       0.26      0.28      0.27       100\n",
            "     Toaster       0.37      0.82      0.51       100\n",
            "    Valencia       0.17      0.03      0.05       100\n",
            "      Willow       0.99      0.94      0.96       100\n",
            "     X-ProII       0.31      0.20      0.24       100\n",
            "\n",
            "    accuracy                           0.28      1700\n",
            "   macro avg       0.28      0.28      0.25      1700\n",
            "weighted avg       0.28      0.28      0.25      1700\n",
            "\n"
          ]
        }
      ],
      "source": [
        "print(classification_report(test_it.classes, y_predict, target_names=test_it.class_indices))"
      ],
      "id": "Jyh9B3eZMTo-"
    },
    {
      "cell_type": "code",
      "execution_count": null,
      "metadata": {
        "id": "knOvvUM3MTo-",
        "outputId": "86e6a2e8-dbef-4f27-d9ea-2cb833d568c1",
        "colab": {
          "base_uri": "https://localhost:8080/"
        }
      },
      "outputs": [
        {
          "output_type": "execute_result",
          "data": {
            "text/plain": [
              "array([ 0, 11,  0, ..., 13, 12, 12])"
            ]
          },
          "metadata": {},
          "execution_count": 23
        }
      ],
      "source": [
        "y_predict"
      ],
      "id": "knOvvUM3MTo-"
    },
    {
      "cell_type": "code",
      "execution_count": null,
      "metadata": {
        "id": "J2JEkSDRMTo_",
        "outputId": "6ec7db2a-375c-481c-90c8-989c63a20a30",
        "colab": {
          "base_uri": "https://localhost:8080/"
        }
      },
      "outputs": [
        {
          "output_type": "execute_result",
          "data": {
            "text/plain": [
              "1483"
            ]
          },
          "metadata": {},
          "execution_count": 24
        }
      ],
      "source": [
        "error_count = 0\n",
        "\n",
        "for x in y_predict:\n",
        "    if y_predict[x] != test_it.classes[x]:\n",
        "        error_count += 1\n",
        "        \n",
        "error_count"
      ],
      "id": "J2JEkSDRMTo_"
    },
    {
      "cell_type": "code",
      "execution_count": null,
      "metadata": {
        "id": "h6yyRIuqMTo_",
        "colab": {
          "base_uri": "https://localhost:8080/",
          "height": 168
        },
        "outputId": "45b31d7c-0af7-429f-e680-3e498bb97f6a"
      },
      "outputs": [
        {
          "output_type": "error",
          "ename": "NameError",
          "evalue": "ignored",
          "traceback": [
            "\u001b[0;31m---------------------------------------------------------------------------\u001b[0m",
            "\u001b[0;31mNameError\u001b[0m                                 Traceback (most recent call last)",
            "\u001b[0;32m<ipython-input-25-b2a8aba7d58c>\u001b[0m in \u001b[0;36m<module>\u001b[0;34m()\u001b[0m\n\u001b[0;32m----> 1\u001b[0;31m \u001b[0mplot_result\u001b[0m\u001b[0;34m(\u001b[0m\u001b[0mhistory\u001b[0m\u001b[0;34m)\u001b[0m\u001b[0;34m\u001b[0m\u001b[0;34m\u001b[0m\u001b[0m\n\u001b[0m",
            "\u001b[0;31mNameError\u001b[0m: name 'plot_result' is not defined"
          ]
        }
      ],
      "source": [
        "plot_result(history)\n"
      ],
      "id": "h6yyRIuqMTo_"
    },
    {
      "cell_type": "code",
      "source": [
        ""
      ],
      "metadata": {
        "id": "smyB6KF_q_7g"
      },
      "id": "smyB6KF_q_7g",
      "execution_count": null,
      "outputs": []
    }
  ],
  "metadata": {
    "accelerator": "GPU",
    "colab": {
      "machine_shape": "hm",
      "name": "Transfer Learning- Inceptionv3_v1.ipynb",
      "provenance": [],
      "collapsed_sections": []
    },
    "kernelspec": {
      "display_name": "Python 3",
      "language": "python",
      "name": "python3"
    },
    "language_info": {
      "codemirror_mode": {
        "name": "ipython",
        "version": 3
      },
      "file_extension": ".py",
      "mimetype": "text/x-python",
      "name": "python",
      "nbconvert_exporter": "python",
      "pygments_lexer": "ipython3",
      "version": "3.8.5"
    }
  },
  "nbformat": 4,
  "nbformat_minor": 5
}