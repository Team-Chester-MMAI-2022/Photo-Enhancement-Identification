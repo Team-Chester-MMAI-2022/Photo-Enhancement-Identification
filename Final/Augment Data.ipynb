{
 "cells": [
  {
   "cell_type": "code",
   "execution_count": 1,
   "id": "d71837ac",
   "metadata": {},
   "outputs": [],
   "source": [
    "#Import Stuff here\n",
    "\n",
    "from sklearn.model_selection import train_test_split\n",
    "\n",
    "import matplotlib.pyplot as plt\n",
    "\n",
    "import tensorflow.keras as keras\n",
    "from tensorflow.keras.models import Sequential\n",
    "from tensorflow.keras.layers import Dense, Dropout, Conv2D, MaxPooling2D, Flatten, GlobalAveragePooling2D, DepthwiseConv2D, BatchNormalization\n",
    "from tensorflow.keras.preprocessing.image import ImageDataGenerator\n",
    "from sklearn.metrics import classification_report, confusion_matrix\n",
    "import pandas as pd\n",
    "import numpy as np\n"
   ]
  },
  {
   "cell_type": "code",
   "execution_count": 25,
   "id": "f4a110ce",
   "metadata": {},
   "outputs": [
    {
     "name": "stdout",
     "output_type": "stream",
     "text": [
      "Found 400 images belonging to 1 classes.\n",
      "Found 400 images belonging to 1 classes.\n",
      "Found 400 images belonging to 1 classes.\n",
      "Found 400 images belonging to 1 classes.\n",
      "Found 400 images belonging to 1 classes.\n",
      "Found 400 images belonging to 1 classes.\n",
      "Found 400 images belonging to 1 classes.\n",
      "Found 400 images belonging to 1 classes.\n",
      "Found 400 images belonging to 1 classes.\n",
      "Found 400 images belonging to 1 classes.\n",
      "Found 400 images belonging to 1 classes.\n",
      "Found 400 images belonging to 1 classes.\n",
      "Found 400 images belonging to 1 classes.\n",
      "Found 400 images belonging to 1 classes.\n",
      "Found 400 images belonging to 1 classes.\n",
      "Found 400 images belonging to 1 classes.\n",
      "Found 400 images belonging to 1 classes.\n"
     ]
    }
   ],
   "source": [
    "#creates a Image Generator from the directories and scales the images by dividing by 255. Also changes the images sizes to 256x256\n",
    "\n",
    "\n",
    "batch_size = 400\n",
    "\n",
    "labels = ['1977', 'Amaro', 'Brannan', 'Clarendon', 'Gingham', 'He-Fe', 'Hudson', 'Lo-Fi',\n",
    "     'Mayfair', 'Nashville', 'Original', 'Perpetua', 'Sutro', 'Toaster', 'Valencia', 'Willow', 'X-ProII']\n",
    "\n",
    "\n",
    "\n",
    "for i in labels:\n",
    "    datagen = ImageDataGenerator(rotation_range = 90, shear_range = 0.15, brightness_range=[0.2,1.0])\n",
    "    \n",
    "    train_it = datagen.flow_from_directory ('data/train/', target_size = (256, 256), save_to_dir = 'augmented/'+i, save_format='jpg',\n",
    "                                            classes = [i], color_mode=\"rgb\", batch_size=batch_size, seed = 1)\n",
    "    \n",
    "    train_it.next()\n",
    "\n"
   ]
  },
  {
   "cell_type": "code",
   "execution_count": null,
   "id": "2582dfce",
   "metadata": {},
   "outputs": [],
   "source": []
  }
 ],
 "metadata": {
  "kernelspec": {
   "display_name": "Python 3 (ipykernel)",
   "language": "python",
   "name": "python3"
  },
  "language_info": {
   "codemirror_mode": {
    "name": "ipython",
    "version": 3
   },
   "file_extension": ".py",
   "mimetype": "text/x-python",
   "name": "python",
   "nbconvert_exporter": "python",
   "pygments_lexer": "ipython3",
   "version": "3.9.7"
  }
 },
 "nbformat": 4,
 "nbformat_minor": 5
}
